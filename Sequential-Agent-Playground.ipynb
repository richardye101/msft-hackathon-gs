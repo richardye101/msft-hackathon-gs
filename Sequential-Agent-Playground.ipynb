{
 "cells": [
  {
   "cell_type": "code",
   "execution_count": 1,
   "metadata": {},
   "outputs": [],
   "source": [
    "from dataclasses import dataclass\n",
    "\n",
    "from autogen_core import (\n",
    "    MessageContext,\n",
    "    RoutedAgent,\n",
    "    SingleThreadedAgentRuntime,\n",
    "    TopicId,\n",
    "    TypeSubscription,\n",
    "    message_handler,\n",
    "    type_subscription,\n",
    ")\n",
    "from autogen_core.models import ChatCompletionClient, SystemMessage, UserMessage\n",
    "from autogen_ext.models.azure import AzureAIChatCompletionClient\n",
    "from azure.core.credentials import AzureKeyCredential\n",
    "\n",
    "import pandas as pd"
   ]
  },
  {
   "cell_type": "markdown",
   "metadata": {},
   "source": [
    "### Message Protocol\n",
    "Defining the message that will be passed between agents. Will need to change/add new message definitions for our purposes. (SQL code, instructions, etc)"
   ]
  },
  {
   "cell_type": "code",
   "execution_count": 2,
   "metadata": {},
   "outputs": [],
   "source": [
    "@dataclass\n",
    "class Message:\n",
    "    content: str\n",
    "\n",
    "@dataclass\n",
    "class GenerateInstructionMessage:\n",
    "    content: str\n",
    "    feedback: str\n",
    "\n",
    "@dataclass\n",
    "class SQLQueryMessage:\n",
    "    question: str\n",
    "    query: str\n",
    "\n",
    "@dataclass\n",
    "class ReviewMessage:\n",
    "    question: str\n",
    "    query: str\n",
    "    result: pd.DataFrame"
   ]
  },
  {
   "cell_type": "markdown",
   "metadata": {},
   "source": [
    "### Agents\n",
    "Define the type of agents we want\n",
    "\n",
    "Whats currently done:\n",
    "- [x] Renaming of agents and topics"
   ]
  },
  {
   "cell_type": "markdown",
   "metadata": {},
   "source": [
    "##### Orchestrator Agent (#1)\n",
    "Given an input message from a client asking for data, this agent will ingest that information, and reform the asks into proper questions, with the correct details (client name, billing division, time period, etc) and send that message into a queue to be processed downstream.\n",
    "\n",
    "To do:\n",
    "- [ ] Implement logic to separate asks and send each as a message\n",
    "- [ ] Rewrite system message"
   ]
  },
  {
   "cell_type": "code",
   "execution_count": 4,
   "metadata": {},
   "outputs": [],
   "source": [
    "@type_subscription(topic_type=query_extractor_topic_type)\n",
    "class QueryExtractorAgent(RoutedAgent):\n",
    "    def __init__(self, model_client: ChatCompletionClient) -> None:\n",
    "        super().__init__(\"A query extractor agent.\")\n",
    "\n",
    "        # TO-DO: NEED TO REPLACE THIS SYSTEM MESSAGE\n",
    "        self._system_message = SystemMessage(\n",
    "            content=(\n",
    "                \"You are an insurance analyst Extract key information from the client's email: what specific data they need, any metrics or thresholds mentioned, time periods, and specific populations they're asking about.\"\n",
    "            )\n",
    "        )\n",
    "        self._model_client = model_client\n",
    "\n",
    "    @message_handler\n",
    "    async def handle_user_request(self, message: Message, ctx: MessageContext) -> None:\n",
    "        prompt = f\"Request: {message.content}\"\n",
    "        llm_result = await self._model_client.create(\n",
    "            messages=[self._system_message, UserMessage(content=prompt, source=self.id.key)],\n",
    "            cancellation_token=ctx.cancellation_token,\n",
    "        )\n",
    "        response = llm_result.content\n",
    "        assert isinstance(response, str)\n",
    "        print(f\"{'-'*80}\\n{self.id.type}:\\n{response}\")\n",
    "\n",
    "        await self.publish_message(Message(response), topic_id=TopicId(report_finder_topic_type, source=self.id.key))"
   ]
  },
  {
   "cell_type": "markdown",
   "metadata": {},
   "source": [
    "##### Report Finder Agent (#2)\n",
    "Taking a query with all relevant information, we look for an existing report that is able to answer the question. If it thinks it found a report, a human should have a say in verifying it's the correct report.\n",
    "\n",
    "If it cannot find a report that can answer the question message, we send the message further to the SQL generator agent to generate an SQL query that can answer it.\n",
    "\n",
    "To Do:\n",
    "- [ ] Implement logic to search through existing reports\n",
    "- [ ] Implement logic to send a report to the report generator agent\n",
    "- [ ] Implement logic to send a report to the SQL generator agent"
   ]
  },
  {
   "cell_type": "code",
   "execution_count": 5,
   "metadata": {},
   "outputs": [],
   "source": [
    "@type_subscription(topic_type=report_finder_topic_type)\n",
    "class ReportFinderAgent(RoutedAgent):\n",
    "    def __init__(self, model_client: ChatCompletionClient) -> None:\n",
    "        super().__init__(\"A report finder agent.\")\n",
    "        self._system_message = SystemMessage(\n",
    "            content=(\n",
    "                \"You are a Report Finder Agent for an insurance company's BA reporting\"\n",
    "                \" system. Your task is to carefully analyze a client question about their\"\n",
    "                \" insurance plans and determine if an existing report in our database \"\n",
    "                \"answers their query. Search the knowledge base thoroughly using these \"\n",
    "                \"parameters. If you find a matching report, start your message with *FOUND*\"\n",
    "                \"and explain why the report matches the query and provide the report ID \"\n",
    "                \"and SQL query. If no existing report matches the client's needs, start \"\n",
    "                \"your message with *NOT FOUND* and provide detailed information about \"\n",
    "                \"what specific data would be needed to answer their question. Always \"\n",
    "                \"maintain a formal, professional tone appropriate for insurance industry \"\n",
    "                \"communication.\"\n",
    "            )\n",
    "        )\n",
    "        self._model_client = model_client\n",
    "\n",
    "    @message_handler\n",
    "    async def handle_question(self, message: Message, ctx: MessageContext) -> None:\n",
    "        prompt = f\"Below is the question to answer:\\n\\n{message.content}\"\n",
    "\n",
    "        # To Do: Implement a RAG agent to search existing reports\n",
    "\n",
    "        llm_result = await self._model_client.create(\n",
    "            messages=[self._system_message, UserMessage(content=prompt, source=self.id.key)],\n",
    "            cancellation_token=ctx.cancellation_token,\n",
    "        )\n",
    "        # response = llm_result.content\n",
    "        response = \"\"\n",
    "        assert isinstance(response, str)\n",
    "        print(f\"{'-'*80}\\n{self.id.type}:\\n{response}\")\n",
    "\n",
    "        # To Do: send message to either report generator agent\n",
    "        if response.startswith(\"*FOUND*\"):\n",
    "            await self.publish_message(Message(response), topic_id=TopicId(query_execution_topic_type, source=self.id.key))\n",
    "        else:\n",
    "            await self.publish_message(\n",
    "                GenerateInstructionMessage(message.content, feedback=\"\"),\n",
    "                topic_id=TopicId(sql_generator_topic_type, source=self.id.key))"
   ]
  },
  {
   "cell_type": "code",
   "execution_count": 6,
   "metadata": {},
   "outputs": [],
   "source": [
    "@type_subscription(topic_type=sql_generator_topic_type)\n",
    "class SQLGeneratorAgent(RoutedAgent):\n",
    "    def __init__(self, model_client: ChatCompletionClient) -> None:\n",
    "        super().__init__(\"A SQL Query Generator agent.\")\n",
    "        self._system_message = SystemMessage(\n",
    "            content=(\n",
    "                \"You are a SQL Query Generator for an insurance company's database system. Analyze \"\n",
    "                \"the client's question carefully to identify exactly what data they need. Create \"\n",
    "                \"a SQL query for an Azure SQL Database that answers the provided question \"\n",
    "                \"by filtering and extracting the relevant data. Always include \"\n",
    "                \"appropriate WHERE clauses to limit results based on the specific parameters in \"\n",
    "                \"the client's question (date ranges, dollar amounts, plan types, etc.). Your \"\n",
    "                \"queries should be optimized for performance and follow best practices for SQL. \"\n",
    "                \"Include clear comments in your SQL code explaining the purpose of each section. \"\n",
    "                \"Ensure your query returns data in a format that directly answers the client's \"\n",
    "                \"question. The database contains the following tables containing information on \"\n",
    "                \"claims, benefits, plan members, and plans:\"\n",
    "            )\n",
    "        )\n",
    "        self._model_client = model_client\n",
    "\n",
    "    @message_handler\n",
    "    async def handle_question(self, message: GenerateInstructionMessage, ctx: MessageContext) -> None:\n",
    "        prompt = f\"Question to convert to SQL Query:\\n{message.content}.\"\n",
    "        if message.feedback:\n",
    "            prompt += f\"Using this feedback:\\n{message.feedback}\"\n",
    "        llm_result = await self._model_client.create(\n",
    "            messages=[self._system_message, UserMessage(content=prompt, source=self.id.key)],\n",
    "            cancellation_token=ctx.cancellation_token,\n",
    "        )\n",
    "        response = llm_result.content\n",
    "        assert isinstance(response, str)\n",
    "        print(f\"{'-'*80}\\n{self.id.type}:\\n{response}\")\n",
    "        question_and_query = SQLQueryMessage(question=message.content, query=response)\n",
    "        await self.publish_message(question_and_query, topic_id=TopicId(query_execution_topic_type, source=self.id.key))"
   ]
  },
  {
   "cell_type": "code",
   "execution_count": 7,
   "metadata": {},
   "outputs": [],
   "source": [
    "@type_subscription(topic_type=query_execution_topic_type)\n",
    "class QueryExecutionAgent(RoutedAgent):\n",
    "    def __init__(self, model_client: ChatCompletionClient) -> None:\n",
    "        super().__init__(\"A SQL Query Execution agent.\")\n",
    "        self._system_message = SystemMessage(\n",
    "            content=(\n",
    "                \"You are a SQL Query Execution agent that takes an Azure SQL \"\n",
    "                \"query, verifies that it is correct, and outputs the final \"\n",
    "                \"refined query (if needed). If not, please ONLY output the SQL query.\"\n",
    "            )\n",
    "        )\n",
    "        self._model_client = model_client\n",
    "\n",
    "    @message_handler\n",
    "    async def handle_sql_query(self, message: SQLQueryMessage, ctx: MessageContext) -> None:\n",
    "        prompt = f\"Input SQL Query:\\n{message.query}.\"\n",
    "        llm_result = await self._model_client.create(\n",
    "            messages=[self._system_message, UserMessage(content=prompt, source=self.id.key)],\n",
    "            cancellation_token=ctx.cancellation_token,\n",
    "        )\n",
    "        response = llm_result.content\n",
    "        assert isinstance(response, str)\n",
    "        print(f\"{'-'*80}\\n{self.id.type}:\\n{response}\")\n",
    "        # TO-DO: Write code to run the query against the database\n",
    "        response_for_review = ReviewMessage(\n",
    "            question=message.question,\n",
    "            query=message.query,\n",
    "            result=response\n",
    "        )\n",
    "        await self.publish_message(response_for_review, topic_id=TopicId(ready_for_review_topic_type, source=self.id.key))"
   ]
  },
  {
   "cell_type": "code",
   "execution_count": 8,
   "metadata": {},
   "outputs": [],
   "source": [
    "@type_subscription(topic_type=ready_for_review_topic_type)\n",
    "class ReviewerAgent(RoutedAgent):\n",
    "    def __init__(self, model_client: ChatCompletionClient) -> None:\n",
    "        super().__init__(\"A Result Reviewer agent.\")\n",
    "        self._system_message = SystemMessage(\n",
    "            content=(\n",
    "                \"You are a reviewer agent tasked with comparing a question, \"\n",
    "                \"the corresponding SQL query, and the head of the result \" \n",
    "                \"table to ensure that the original question is answered correctly.\"\n",
    "                \"You are a Reviewer Agent responsible for quality control in an \"\n",
    "                \"insurance reporting system. Your critical role is to verify that \"\n",
    "                \"the the corresponding SQL query, and the head of the result \" \n",
    "                \"table truly answers the client's original question. Then carefully \"\n",
    "                \"examine the resulting tables provided to you. Verify that: \"\n",
    "                \"1) All requested information is present and complete; \"\n",
    "                \"2) The data directly addresses the specific parameters mentioned by \"\n",
    "                \"the client (time periods, dollar amounts, specific populations); \"\n",
    "                \"3) The format is clear and professional; \"\n",
    "                \"4) No extraneous or confusing information is included. If the report \"\n",
    "                \"fully satisfies the client's query, approve it by ONLY responding \"\n",
    "                \"with **APPROVED**. If any information is missing or inappropriate, \"\n",
    "                \"clearly articulate what needs to be corrected under a **FEEDBACK** heading. \"\n",
    "                \"Use your insurance industry expertise to ensure the information would \"\n",
    "                \"be valuable and understandable to the client.\"\n",
    "            )\n",
    "        )\n",
    "        self._model_client = model_client\n",
    "\n",
    "    @message_handler\n",
    "    async def handle_result(self, message: ReviewMessage, ctx: MessageContext) -> None:\n",
    "        prompt = (f\"Review the following question:\\n{message.question}.\"\n",
    "                  f\"SQL Query:\\n{message.query}\"\n",
    "                  f\"Result:\\n {message.result}\"\n",
    "                #   f\"Result:\\n {message.result.head(10)}\"\n",
    "                )\n",
    "        llm_result = await self._model_client.create(\n",
    "            messages=[self._system_message, UserMessage(content=prompt, source=self.id.key)],\n",
    "            cancellation_token=ctx.cancellation_token,\n",
    "        )\n",
    "        response = llm_result.content\n",
    "        assert isinstance(response, str)\n",
    "        print(f\"{'-'*80}\\n{self.id.type}:\\n{response}\")\n",
    "        # TO-DO: Write code to run the query against the database\n",
    "        if response.startswith(\"**APPROVED**\"):\n",
    "            await self.publish_message(message, topic_id=TopicId(result_topic_type, source=self.id.key))\n",
    "        else:\n",
    "            await self.publish_message(\n",
    "                GenerateInstructionMessage(message.question, feedback=response),\n",
    "                topic_id=TopicId(result_topic_type, source=self.id.key))"
   ]
  },
  {
   "cell_type": "code",
   "execution_count": 9,
   "metadata": {},
   "outputs": [],
   "source": [
    "@type_subscription(topic_type=result_topic_type)\n",
    "class EmailDraftAgent(RoutedAgent):\n",
    "    def __init__(self) -> None:\n",
    "        super().__init__(\"A user agent that outputs the final answer to the user.\")\n",
    "\n",
    "    @message_handler\n",
    "    async def handle_final_copy(self, message: ReviewMessage, ctx: MessageContext) -> None:\n",
    "        print(f\"\\n{'-'*80}\\n{self.id.type} Creating an email draft...\")\n",
    "        print(f\"Question: {message.question}\\n Query: {message.query}\\n Result: {message.result}\")\n",
    "        # To Do: Write code to handle putting the resulting table into a XLSX, \n",
    "        # and sending it to an email client as a draft."
   ]
  },
  {
   "cell_type": "markdown",
   "metadata": {},
   "source": [
    "## Workflow"
   ]
  },
  {
   "cell_type": "markdown",
   "metadata": {},
   "source": [
    "### Topics\n",
    "Messages meant for a specific topic, along with the assigned agent type"
   ]
  },
  {
   "cell_type": "code",
   "execution_count": 2,
   "metadata": {},
   "outputs": [],
   "source": [
    "query_extractor_topic_type = \"QueryExtractorAgent\"\n",
    "report_finder_topic_type = \"ReportFinderAgent\"\n",
    "sql_generator_topic_type = \"SQLGeneratorAgent\"\n",
    "query_execution_topic_type = \"QueryExecutionAgent\"\n",
    "ready_for_review_topic_type = \"ReviewerAgent\"\n",
    "result_topic_type = \"EmailDraftAgent\""
   ]
  },
  {
   "cell_type": "code",
   "execution_count": null,
   "metadata": {},
   "outputs": [
    {
     "name": "stderr",
     "output_type": "stream",
     "text": [
      "/Users/richardye/.pyenv/versions/3.11.3/envs/msft-hackathon-gs/lib/python3.11/site-packages/autogen_ext/models/azure/_azure_ai_client.py:305: UserWarning: Missing required field 'structured_output' in ModelInfo. This field will be required in a future version of AutoGen.\n",
      "  validate_model_info(config[\"model_info\"])\n"
     ]
    },
    {
     "data": {
      "text/plain": [
       "AgentType(type='EmailDraftAgent')"
      ]
     },
     "execution_count": 3,
     "metadata": {},
     "output_type": "execute_result"
    }
   ],
   "source": [
    "\n",
    "import os\n",
    "from dotenv import load_dotenv\n",
    "os.environ['ODBCINI'] = '/opt/homebrew/etc/odbc.ini'\n",
    "os.environ['ODBCINSTINI'] = '/opt/homebrew/etc/odbcinst.ini'\n",
    "# # Set DYLD_LIBRARY_PATH for macOS\n",
    "# os.environ['DYLD_LIBRARY_PATH'] = '/opt/homebrew/lib:' + os.environ.get('DYLD_LIBRARY_PATH', '')\n",
    "print(os.environ.get('ODBCINI'))\n",
    "print(os.environ.get('ODBCINSTINI'))\n",
    "\n",
    "load_dotenv(override=True)\n",
    "\n",
    "from importlib import reload\n",
    "from message_classes import Message, GenerateInstructionMessage, SQLQueryMessage, ReviewMessage\n",
    "from agents import QueryExtractorAgent, ReportFinderAgent, SQLGeneratorAgent, QueryExecutionAgent, ReviewerAgent, EmailDraftAgent\n",
    "\n",
    "\n",
    "FOUNDRY_KEY = os.environ.get('FOUNDRY_KEY')\n",
    "model_client = AzureAIChatCompletionClient(\n",
    "    model=\"gpt-4o-mini\",\n",
    "    endpoint=\"https://msfthackathong9909733395.services.ai.azure.com/models\",\n",
    "    # Created an AI Foundry Hub, then a project within it, then a model. \n",
    "    # Can find and access the inference endpoint and Key within the Project -> My assets -> Models + endpoints\n",
    "    credential=AzureKeyCredential(FOUNDRY_KEY),\n",
    "    model_info={\n",
    "        \"json_output\": False,\n",
    "        \"function_calling\": False,\n",
    "        \"vision\": False,\n",
    "        \"family\": \"unknown\",\n",
    "    },\n",
    ")\n",
    "\n",
    "# result = await model_client.create([UserMessage(content=\"What is the capital of France?\", source=\"user\")])\n",
    "# print(result)\n",
    "\n",
    "runtime = SingleThreadedAgentRuntime()\n",
    "\n",
    "await QueryExtractorAgent.register(\n",
    "    runtime, type=query_extractor_topic_type, factory=lambda: QueryExtractorAgent(model_client=model_client)\n",
    ")\n",
    "\n",
    "await ReportFinderAgent.register(runtime, type=report_finder_topic_type, factory=lambda: ReportFinderAgent(model_client=model_client))\n",
    "\n",
    "await SQLGeneratorAgent.register(\n",
    "    runtime, type=sql_generator_topic_type, factory=lambda:SQLGeneratorAgent(model_client=model_client)\n",
    ")\n",
    "\n",
    "await QueryExecutionAgent.register(\n",
    "    runtime, type=query_execution_topic_type, factory=lambda:QueryExecutionAgent(model_client=model_client)\n",
    ")\n",
    "\n",
    "await ReviewerAgent.register(\n",
    "    runtime, type=ready_for_review_topic_type, factory=lambda:ReviewerAgent(model_client=model_client)\n",
    ")\n",
    "\n",
    "await EmailDraftAgent.register(runtime, type=result_topic_type, factory=lambda: EmailDraftAgent())"
   ]
  },
  {
   "cell_type": "code",
   "execution_count": 4,
   "metadata": {},
   "outputs": [
    {
     "name": "stdout",
     "output_type": "stream",
     "text": [
      "--------------------------------------------------------------------------------\n",
      "QueryExtractorAgent:\n",
      "Key Information Extracted:\n",
      "\n",
      "- Specific Data Needed: Number of drug claims paid that are categorized as Brand vs Generic.\n",
      "- Metrics or Thresholds: None mentioned.\n",
      "- Time Periods: None specified.\n",
      "- Specific Populations: None specified, but implies focus on drug claims.\n",
      "--------------------------------------------------------------------------------\n",
      "ReportFinderAgent:\n",
      "\n",
      "Entered prompt for Query generation: Question to convert to SQL Query:\n",
      "Key Information Extracted:\n",
      "\n",
      "- Specific Data Needed: Number of drug claims paid that are categorized as Brand vs Generic.\n",
      "- Metrics or Thresholds: None mentioned.\n",
      "- Time Periods: None specified.\n",
      "- Specific Populations: None specified, but implies focus on drug claims..\n",
      "--------------------------------------------------------------------------------\n",
      "SQLGeneratorAgent:\n",
      "```sql\n",
      "-- This query retrieves the count of drug claims paid categorized by drug type (Brand vs Generic)\n",
      "\n",
      "SELECT \n",
      "    b.drug_type,\n",
      "    COUNT(ch.claim_id) AS total_claims\n",
      "FROM \n",
      "    GS.claim_history ch\n",
      "JOIN \n",
      "    GS.benefits b ON ch.procedure_code = b.procedure_code\n",
      "WHERE \n",
      "    b.drug_type IN ('Brand', 'Generic') -- Ensuring we are only looking at Brand and Generic drug types\n",
      "GROUP BY \n",
      "    b.drug_type\n",
      "ORDER BY \n",
      "    b.drug_type; -- Ordering the results by drug type for clarity\n",
      "```\n",
      "--------------------------------------------------------------------------------\n",
      "QueryExecutionAgent:\n",
      "  drug_type  total_claims\n",
      "0     Brand            72\n",
      "1   Generic            51\n",
      "{'drug_type': {'0': 'Brand', '1': 'Generic'}, 'total_claims': {'0': 72, '1': 51}} <class 'dict'>\n",
      "  drug_type  total_claims\n",
      "0     Brand            72\n",
      "1   Generic            51\n",
      "--------------------------------------------------------------------------------\n",
      "ReviewerAgent:\n",
      "**APPROVED**\n",
      "\n",
      "--------------------------------------------------------------------------------\n",
      "EmailDraftAgent Creating an email draft...\n",
      "Question: Key Information Extracted:\n",
      "\n",
      "- Specific Data Needed: Number of drug claims paid that are categorized as Brand vs Generic.\n",
      "- Metrics or Thresholds: None mentioned.\n",
      "- Time Periods: None specified.\n",
      "- Specific Populations: None specified, but implies focus on drug claims.\n",
      " Query: ```sql\n",
      "-- This query retrieves the count of drug claims paid categorized by drug type (Brand vs Generic)\n",
      "\n",
      "SELECT \n",
      "    b.drug_type,\n",
      "    COUNT(ch.claim_id) AS total_claims\n",
      "FROM \n",
      "    GS.claim_history ch\n",
      "JOIN \n",
      "    GS.benefits b ON ch.procedure_code = b.procedure_code\n",
      "WHERE \n",
      "    b.drug_type IN ('Brand', 'Generic') -- Ensuring we are only looking at Brand and Generic drug types\n",
      "GROUP BY \n",
      "    b.drug_type\n",
      "ORDER BY \n",
      "    b.drug_type; -- Ordering the results by drug type for clarity\n",
      "```\n",
      " Result: {\"drug_type\":{\"0\":\"Brand\",\"1\":\"Generic\"},\"total_claims\":{\"0\":72,\"1\":51}}\n"
     ]
    }
   ],
   "source": [
    "runtime.start()\n",
    "\n",
    "await runtime.publish_message(\n",
    "    Message(content=(\n",
    "        \"From: IBM (client_code = 1)\"\n",
    "        \"How many of the drug claims paid are Brand vs Generic?\"\n",
    "    )),\n",
    "    topic_id=TopicId(query_extractor_topic_type, source=\"default\"),\n",
    ")\n",
    "\n",
    "await runtime.stop_when_idle()"
   ]
  },
  {
   "cell_type": "code",
   "execution_count": null,
   "metadata": {},
   "outputs": [
    {
     "name": "stdout",
     "output_type": "stream",
     "text": [
      "/opt/homebrew/etc/odbc.ini\n",
      "/opt/homebrew/etc/odbcinst.ini\n"
     ]
    }
   ],
   "source": [
    "import pyodbc, struct\n",
    "from azure import identity\n",
    "import urllib\n",
    "import urllib.parse\n",
    "from sqlalchemy import create_engine\n",
    "\n",
    "from typing import Union\n",
    "from fastapi import FastAPI\n",
    "from pydantic import BaseModel\n",
    "\n",
    "def get_conn(connection_string):\n",
    "        conn = pyodbc.connect(connection_string)\n",
    "        # conn = pyodbc.connect(\"DSN=AzureSQL\")\n",
    "        return conn"
   ]
  },
  {
   "cell_type": "code",
   "execution_count": null,
   "metadata": {},
   "outputs": [
    {
     "name": "stdout",
     "output_type": "stream",
     "text": [
      "Driver={ODBC Driver 18 for SQL Server};Server=insurance-greenshield.database.windows.net;Database=dev;Authentication=ActiveDirectoryPassword;UID=odl_user_1661078@cloudlabssandbox.onmicrosoft.com;PWD=ctfp28QXN*Vn;\n"
     ]
    },
    {
     "data": {
      "text/plain": [
       "<pyodbc.Connection at 0x1182e2590>"
      ]
     },
     "execution_count": 17,
     "metadata": {},
     "output_type": "execute_result"
    }
   ],
   "source": [
    "connection_string = os.environ['AZURE_SQL_CONNECTIONSTRING']\n",
    "print(connection_string)\n",
    "get_conn(connection_string)"
   ]
  },
  {
   "cell_type": "code",
   "execution_count": 12,
   "metadata": {},
   "outputs": [
    {
     "ename": "Error",
     "evalue": "('01000', \"[01000] [unixODBC][Driver Manager]Can't open lib 'ODBC Driver 18 for SQL Server' : file not found (0) (SQLDriverConnect)\")",
     "output_type": "error",
     "traceback": [
      "\u001b[31m---------------------------------------------------------------------------\u001b[39m",
      "\u001b[31mError\u001b[39m                                     Traceback (most recent call last)",
      "\u001b[36mCell\u001b[39m\u001b[36m \u001b[39m\u001b[32mIn[12]\u001b[39m\u001b[32m, line 2\u001b[39m\n\u001b[32m      1\u001b[39m rows = []\n\u001b[32m----> \u001b[39m\u001b[32m2\u001b[39m \u001b[38;5;28;01mwith\u001b[39;00m \u001b[43mget_conn\u001b[49m\u001b[43m(\u001b[49m\u001b[43mconnection_string\u001b[49m\u001b[43m)\u001b[49m \u001b[38;5;28;01mas\u001b[39;00m conn:\n\u001b[32m      3\u001b[39m     cursor = conn.cursor()\n\u001b[32m      4\u001b[39m     cursor.execute(\u001b[33m\"\u001b[39m\u001b[33mSELECT TOP 15 * FROM GS.BENEFITS\u001b[39m\u001b[33m\"\u001b[39m)\n",
      "\u001b[36mCell\u001b[39m\u001b[36m \u001b[39m\u001b[32mIn[10]\u001b[39m\u001b[32m, line 23\u001b[39m, in \u001b[36mget_conn\u001b[39m\u001b[34m(connection_string)\u001b[39m\n\u001b[32m     22\u001b[39m \u001b[38;5;28;01mdef\u001b[39;00m\u001b[38;5;250m \u001b[39m\u001b[34mget_conn\u001b[39m(connection_string):\n\u001b[32m---> \u001b[39m\u001b[32m23\u001b[39m         conn = \u001b[43mpyodbc\u001b[49m\u001b[43m.\u001b[49m\u001b[43mconnect\u001b[49m\u001b[43m(\u001b[49m\u001b[43mconnection_string\u001b[49m\u001b[43m)\u001b[49m\n\u001b[32m     24\u001b[39m         \u001b[38;5;66;03m# conn = pyodbc.connect(\"DSN=AzureSQL\")\u001b[39;00m\n\u001b[32m     25\u001b[39m         \u001b[38;5;28;01mreturn\u001b[39;00m conn\n",
      "\u001b[31mError\u001b[39m: ('01000', \"[01000] [unixODBC][Driver Manager]Can't open lib 'ODBC Driver 18 for SQL Server' : file not found (0) (SQLDriverConnect)\")"
     ]
    }
   ],
   "source": [
    "rows = []\n",
    "with get_conn(connection_string) as conn:\n",
    "    cursor = conn.cursor()\n",
    "    cursor.execute(\"SELECT TOP 15 * FROM GS.BENEFITS\")\n",
    "    columns = [column[0] for column in cursor.description]\n",
    "    print(columns)\n",
    "    for i, row in enumerate(cursor.fetchall()):\n",
    "        if i == 0:\n",
    "            print(f'each row is of type: {type(row)}\\n')\n",
    "        print(row)\n",
    "        rows.append(row)\n",
    "    df = pd.DataFrame((tuple(t) for t in rows), columns=columns)\n",
    "display(df)"
   ]
  },
  {
   "cell_type": "code",
   "execution_count": null,
   "metadata": {},
   "outputs": [],
   "source": []
  }
 ],
 "metadata": {
  "kernelspec": {
   "display_name": "msft-hackathon-gs",
   "language": "python",
   "name": "python3"
  },
  "language_info": {
   "codemirror_mode": {
    "name": "ipython",
    "version": 3
   },
   "file_extension": ".py",
   "mimetype": "text/x-python",
   "name": "python",
   "nbconvert_exporter": "python",
   "pygments_lexer": "ipython3",
   "version": "3.11.3"
  }
 },
 "nbformat": 4,
 "nbformat_minor": 2
}
